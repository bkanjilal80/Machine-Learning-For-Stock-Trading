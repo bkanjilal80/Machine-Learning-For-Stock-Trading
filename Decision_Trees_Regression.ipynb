{
 "cells": [
  {
   "cell_type": "markdown",
   "metadata": {},
   "source": [
    "# Decision Trees for Regression"
   ]
  },
  {
   "cell_type": "code",
   "execution_count": 1,
   "metadata": {
    "inputHidden": false,
    "outputHidden": false
   },
   "outputs": [],
   "source": [
    "import numpy as np\n",
    "import matplotlib.pyplot as plt\n",
    "import pandas as pd\n",
    "\n",
    "import warnings\n",
    "warnings.filterwarnings(\"ignore\")\n",
    "\n",
    "# fix_yahoo_finance is used to fetch data \n",
    "import yfinance as yf\n",
    "yf.pdr_override()"
   ]
  },
  {
   "cell_type": "code",
   "execution_count": 5,
   "metadata": {
    "inputHidden": false,
    "outputHidden": false
   },
   "outputs": [
    {
     "name": "stdout",
     "output_type": "stream",
     "text": [
      "[*********************100%***********************]  1 of 1 completed\n"
     ]
    },
    {
     "data": {
      "text/html": [
       "<div>\n",
       "<style scoped>\n",
       "    .dataframe tbody tr th:only-of-type {\n",
       "        vertical-align: middle;\n",
       "    }\n",
       "\n",
       "    .dataframe tbody tr th {\n",
       "        vertical-align: top;\n",
       "    }\n",
       "\n",
       "    .dataframe thead th {\n",
       "        text-align: right;\n",
       "    }\n",
       "</style>\n",
       "<table border=\"1\" class=\"dataframe\">\n",
       "  <thead>\n",
       "    <tr style=\"text-align: right;\">\n",
       "      <th></th>\n",
       "      <th>Open</th>\n",
       "      <th>High</th>\n",
       "      <th>Low</th>\n",
       "      <th>Close</th>\n",
       "      <th>Adj Close</th>\n",
       "      <th>Volume</th>\n",
       "    </tr>\n",
       "    <tr>\n",
       "      <th>Date</th>\n",
       "      <th></th>\n",
       "      <th></th>\n",
       "      <th></th>\n",
       "      <th></th>\n",
       "      <th></th>\n",
       "      <th></th>\n",
       "    </tr>\n",
       "  </thead>\n",
       "  <tbody>\n",
       "    <tr>\n",
       "      <th>2014-01-01</th>\n",
       "      <td>156.000000</td>\n",
       "      <td>161.500000</td>\n",
       "      <td>156.000000</td>\n",
       "      <td>157.029999</td>\n",
       "      <td>133.940750</td>\n",
       "      <td>119950</td>\n",
       "    </tr>\n",
       "    <tr>\n",
       "      <th>2014-01-02</th>\n",
       "      <td>157.050003</td>\n",
       "      <td>158.005005</td>\n",
       "      <td>155.880005</td>\n",
       "      <td>156.919998</td>\n",
       "      <td>133.846954</td>\n",
       "      <td>69730</td>\n",
       "    </tr>\n",
       "    <tr>\n",
       "      <th>2014-01-03</th>\n",
       "      <td>157.179993</td>\n",
       "      <td>160.399994</td>\n",
       "      <td>153.865005</td>\n",
       "      <td>155.550003</td>\n",
       "      <td>132.678375</td>\n",
       "      <td>512820</td>\n",
       "    </tr>\n",
       "    <tr>\n",
       "      <th>2014-01-06</th>\n",
       "      <td>157.115005</td>\n",
       "      <td>158.000000</td>\n",
       "      <td>153.009995</td>\n",
       "      <td>155.145004</td>\n",
       "      <td>132.332932</td>\n",
       "      <td>476960</td>\n",
       "    </tr>\n",
       "    <tr>\n",
       "      <th>2014-01-07</th>\n",
       "      <td>155.524994</td>\n",
       "      <td>157.190002</td>\n",
       "      <td>154.529999</td>\n",
       "      <td>155.404999</td>\n",
       "      <td>132.554718</td>\n",
       "      <td>225390</td>\n",
       "    </tr>\n",
       "  </tbody>\n",
       "</table>\n",
       "</div>"
      ],
      "text/plain": [
       "                  Open        High         Low       Close   Adj Close  Volume\n",
       "Date                                                                          \n",
       "2014-01-01  156.000000  161.500000  156.000000  157.029999  133.940750  119950\n",
       "2014-01-02  157.050003  158.005005  155.880005  156.919998  133.846954   69730\n",
       "2014-01-03  157.179993  160.399994  153.865005  155.550003  132.678375  512820\n",
       "2014-01-06  157.115005  158.000000  153.009995  155.145004  132.332932  476960\n",
       "2014-01-07  155.524994  157.190002  154.529999  155.404999  132.554718  225390"
      ]
     },
     "execution_count": 5,
     "metadata": {},
     "output_type": "execute_result"
    }
   ],
   "source": [
    "# input\n",
    "symbol = 'BAJFINANCE.NS'\n",
    "start = '2014-01-01'\n",
    "end = '2020-07-27'\n",
    "\n",
    "# Read data \n",
    "dataset = yf.download(symbol,start,end)\n",
    "\n",
    "# View Columns\n",
    "dataset.head()"
   ]
  },
  {
   "cell_type": "code",
   "execution_count": 6,
   "metadata": {
    "inputHidden": false,
    "outputHidden": false
   },
   "outputs": [
    {
     "data": {
      "text/html": [
       "<div>\n",
       "<style scoped>\n",
       "    .dataframe tbody tr th:only-of-type {\n",
       "        vertical-align: middle;\n",
       "    }\n",
       "\n",
       "    .dataframe tbody tr th {\n",
       "        vertical-align: top;\n",
       "    }\n",
       "\n",
       "    .dataframe thead th {\n",
       "        text-align: right;\n",
       "    }\n",
       "</style>\n",
       "<table border=\"1\" class=\"dataframe\">\n",
       "  <thead>\n",
       "    <tr style=\"text-align: right;\">\n",
       "      <th></th>\n",
       "      <th>Open</th>\n",
       "      <th>High</th>\n",
       "      <th>Low</th>\n",
       "      <th>Close</th>\n",
       "      <th>Adj Close</th>\n",
       "      <th>Volume</th>\n",
       "      <th>Increase_Decrease</th>\n",
       "      <th>Buy_Sell_on_Open</th>\n",
       "      <th>Buy_Sell</th>\n",
       "      <th>Return</th>\n",
       "    </tr>\n",
       "    <tr>\n",
       "      <th>Date</th>\n",
       "      <th></th>\n",
       "      <th></th>\n",
       "      <th></th>\n",
       "      <th></th>\n",
       "      <th></th>\n",
       "      <th></th>\n",
       "      <th></th>\n",
       "      <th></th>\n",
       "      <th></th>\n",
       "      <th></th>\n",
       "    </tr>\n",
       "  </thead>\n",
       "  <tbody>\n",
       "    <tr>\n",
       "      <th>2020-07-20</th>\n",
       "      <td>3344.949951</td>\n",
       "      <td>3453.949951</td>\n",
       "      <td>3316.500000</td>\n",
       "      <td>3441.500000</td>\n",
       "      <td>3441.500000</td>\n",
       "      <td>10555495</td>\n",
       "      <td>1</td>\n",
       "      <td>1</td>\n",
       "      <td>-1</td>\n",
       "      <td>0.042468</td>\n",
       "    </tr>\n",
       "    <tr>\n",
       "      <th>2020-07-21</th>\n",
       "      <td>3500.000000</td>\n",
       "      <td>3519.500000</td>\n",
       "      <td>3218.649902</td>\n",
       "      <td>3292.449951</td>\n",
       "      <td>3292.449951</td>\n",
       "      <td>25960048</td>\n",
       "      <td>0</td>\n",
       "      <td>-1</td>\n",
       "      <td>-1</td>\n",
       "      <td>-0.043310</td>\n",
       "    </tr>\n",
       "    <tr>\n",
       "      <th>2020-07-22</th>\n",
       "      <td>3320.000000</td>\n",
       "      <td>3340.000000</td>\n",
       "      <td>3193.600098</td>\n",
       "      <td>3253.000000</td>\n",
       "      <td>3253.000000</td>\n",
       "      <td>17069659</td>\n",
       "      <td>0</td>\n",
       "      <td>-1</td>\n",
       "      <td>1</td>\n",
       "      <td>-0.011982</td>\n",
       "    </tr>\n",
       "    <tr>\n",
       "      <th>2020-07-23</th>\n",
       "      <td>3253.000000</td>\n",
       "      <td>3320.000000</td>\n",
       "      <td>3216.050049</td>\n",
       "      <td>3297.800049</td>\n",
       "      <td>3297.800049</td>\n",
       "      <td>8718035</td>\n",
       "      <td>0</td>\n",
       "      <td>-1</td>\n",
       "      <td>-1</td>\n",
       "      <td>0.013772</td>\n",
       "    </tr>\n",
       "    <tr>\n",
       "      <th>2020-07-24</th>\n",
       "      <td>3245.000000</td>\n",
       "      <td>3290.000000</td>\n",
       "      <td>3220.000000</td>\n",
       "      <td>3251.850098</td>\n",
       "      <td>3251.850098</td>\n",
       "      <td>6637683</td>\n",
       "      <td>0</td>\n",
       "      <td>-1</td>\n",
       "      <td>-1</td>\n",
       "      <td>-0.013934</td>\n",
       "    </tr>\n",
       "  </tbody>\n",
       "</table>\n",
       "</div>"
      ],
      "text/plain": [
       "                   Open         High          Low        Close    Adj Close  \\\n",
       "Date                                                                          \n",
       "2020-07-20  3344.949951  3453.949951  3316.500000  3441.500000  3441.500000   \n",
       "2020-07-21  3500.000000  3519.500000  3218.649902  3292.449951  3292.449951   \n",
       "2020-07-22  3320.000000  3340.000000  3193.600098  3253.000000  3253.000000   \n",
       "2020-07-23  3253.000000  3320.000000  3216.050049  3297.800049  3297.800049   \n",
       "2020-07-24  3245.000000  3290.000000  3220.000000  3251.850098  3251.850098   \n",
       "\n",
       "              Volume  Increase_Decrease  Buy_Sell_on_Open  Buy_Sell    Return  \n",
       "Date                                                                           \n",
       "2020-07-20  10555495                  1                 1        -1  0.042468  \n",
       "2020-07-21  25960048                  0                -1        -1 -0.043310  \n",
       "2020-07-22  17069659                  0                -1         1 -0.011982  \n",
       "2020-07-23   8718035                  0                -1        -1  0.013772  \n",
       "2020-07-24   6637683                  0                -1        -1 -0.013934  "
      ]
     },
     "execution_count": 6,
     "metadata": {},
     "output_type": "execute_result"
    }
   ],
   "source": [
    "# Create more data\n",
    "dataset['Increase_Decrease'] = np.where(dataset['Volume'].shift(-1) > dataset['Volume'],1,0)\n",
    "dataset['Buy_Sell_on_Open'] = np.where(dataset['Open'].shift(-1) > dataset['Open'],1,-1)\n",
    "dataset['Buy_Sell'] = np.where(dataset['Adj Close'].shift(-1) > dataset['Adj Close'],1,-1)\n",
    "dataset['Return'] = dataset['Adj Close'].pct_change()\n",
    "dataset = dataset.dropna()\n",
    "dataset.tail()"
   ]
  },
  {
   "cell_type": "code",
   "execution_count": 7,
   "metadata": {
    "inputHidden": false,
    "outputHidden": false
   },
   "outputs": [
    {
     "data": {
      "text/plain": [
       "(1611, 10)"
      ]
     },
     "execution_count": 7,
     "metadata": {},
     "output_type": "execute_result"
    }
   ],
   "source": [
    "dataset.shape"
   ]
  },
  {
   "cell_type": "code",
   "execution_count": 8,
   "metadata": {
    "inputHidden": false,
    "outputHidden": false
   },
   "outputs": [],
   "source": [
    "X = dataset.drop(['Adj Close', 'Close'], axis=1)  \n",
    "y = dataset['Adj Close'] "
   ]
  },
  {
   "cell_type": "code",
   "execution_count": 9,
   "metadata": {
    "inputHidden": false,
    "outputHidden": false
   },
   "outputs": [],
   "source": [
    "from sklearn.model_selection import train_test_split  \n",
    "X_train, X_test, y_train, y_test = train_test_split(X, y, test_size=0.2, random_state=0)  "
   ]
  },
  {
   "cell_type": "code",
   "execution_count": 10,
   "metadata": {
    "inputHidden": false,
    "outputHidden": false
   },
   "outputs": [
    {
     "data": {
      "text/plain": [
       "DecisionTreeRegressor(criterion='mse', max_depth=None, max_features=None,\n",
       "           max_leaf_nodes=None, min_impurity_decrease=0.0,\n",
       "           min_impurity_split=None, min_samples_leaf=1,\n",
       "           min_samples_split=2, min_weight_fraction_leaf=0.0,\n",
       "           presort=False, random_state=None, splitter='best')"
      ]
     },
     "execution_count": 10,
     "metadata": {},
     "output_type": "execute_result"
    }
   ],
   "source": [
    "from sklearn.tree import DecisionTreeRegressor  \n",
    "regressor = DecisionTreeRegressor()  \n",
    "regressor.fit(X_train, y_train)"
   ]
  },
  {
   "cell_type": "code",
   "execution_count": 11,
   "metadata": {
    "inputHidden": false,
    "outputHidden": false
   },
   "outputs": [],
   "source": [
    "y_pred = regressor.predict(X_test)"
   ]
  },
  {
   "cell_type": "code",
   "execution_count": 17,
   "metadata": {
    "inputHidden": false,
    "outputHidden": false
   },
   "outputs": [
    {
     "name": "stdout",
     "output_type": "stream",
     "text": [
      "                 Actual    Predicted\n",
      "Date                                \n",
      "2014-11-17   302.666962   300.511017\n",
      "2017-02-17  1080.449585  1078.813110\n",
      "2015-11-05   509.265747   507.558990\n",
      "2020-03-13  3952.550049  4014.522949\n",
      "2016-09-22  1118.579956  1091.903687\n"
     ]
    }
   ],
   "source": [
    "df = pd.DataFrame({'Actual':y_test, 'Predicted':y_pred})  \n",
    "#print(df.head())\n",
    "print(df.tail())"
   ]
  },
  {
   "cell_type": "code",
   "execution_count": 13,
   "metadata": {
    "inputHidden": false,
    "outputHidden": false
   },
   "outputs": [
    {
     "name": "stdout",
     "output_type": "stream",
     "text": [
      "Mean Absolute Error: 15.559916564185553\n",
      "Mean Squared Error: 811.1550277520276\n",
      "Root Mean Squared Error: 28.480783482060804\n"
     ]
    }
   ],
   "source": [
    "from sklearn import metrics  \n",
    "print('Mean Absolute Error:', metrics.mean_absolute_error(y_test, y_pred))  \n",
    "print('Mean Squared Error:', metrics.mean_squared_error(y_test, y_pred))  \n",
    "print('Root Mean Squared Error:', np.sqrt(metrics.mean_squared_error(y_test, y_pred)))  "
   ]
  },
  {
   "cell_type": "code",
   "execution_count": 14,
   "metadata": {
    "inputHidden": false,
    "outputHidden": false
   },
   "outputs": [
    {
     "name": "stdout",
     "output_type": "stream",
     "text": [
      "(323,)\n",
      "(323,)\n"
     ]
    }
   ],
   "source": [
    "print(y_test.shape)\n",
    "print(y_pred.shape)"
   ]
  },
  {
   "cell_type": "code",
   "execution_count": 15,
   "metadata": {
    "inputHidden": false,
    "outputHidden": false
   },
   "outputs": [
    {
     "name": "stdout",
     "output_type": "stream",
     "text": [
      "Mean cross validation score: 0.9991359931328935\n",
      "Score without cv: 1.0\n"
     ]
    }
   ],
   "source": [
    "from sklearn.model_selection import cross_val_score\n",
    "\n",
    "dt_fit = regressor.fit(X_train, y_train)\n",
    "dt_scores = cross_val_score(dt_fit, X_train, y_train, cv = 5)\n",
    "\n",
    "print(\"Mean cross validation score: {}\".format(np.mean(dt_scores)))\n",
    "print(\"Score without cv: {}\".format(dt_fit.score(X_train, y_train)))"
   ]
  },
  {
   "cell_type": "code",
   "execution_count": 16,
   "metadata": {
    "inputHidden": false,
    "outputHidden": false
   },
   "outputs": [
    {
     "name": "stdout",
     "output_type": "stream",
     "text": [
      "r2 score: 0.9993590701143477\n",
      "Accuracy Score: 0.9993590701143477\n"
     ]
    }
   ],
   "source": [
    "from sklearn.metrics import r2_score\n",
    "\n",
    "print('r2 score:', r2_score(y_test, dt_fit.predict(X_test)))\n",
    "print('Accuracy Score:', dt_fit.score(X_test, y_test))"
   ]
  },
  {
   "cell_type": "code",
   "execution_count": null,
   "metadata": {},
   "outputs": [],
   "source": []
  }
 ],
 "metadata": {
  "kernel_info": {
   "name": "python3"
  },
  "kernelspec": {
   "display_name": "Python 3",
   "language": "python",
   "name": "python3"
  },
  "language_info": {
   "codemirror_mode": {
    "name": "ipython",
    "version": 3
   },
   "file_extension": ".py",
   "mimetype": "text/x-python",
   "name": "python",
   "nbconvert_exporter": "python",
   "pygments_lexer": "ipython3",
   "version": "3.6.5"
  },
  "nteract": {
   "version": "0.12.2"
  }
 },
 "nbformat": 4,
 "nbformat_minor": 4
}
