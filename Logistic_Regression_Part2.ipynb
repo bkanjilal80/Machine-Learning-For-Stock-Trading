{
 "cells": [
  {
   "cell_type": "markdown",
   "metadata": {
    "nteract": {
     "transient": {
      "deleting": false
     }
    }
   },
   "source": [
    "# Logistic Regression Part 2"
   ]
  },
  {
   "cell_type": "code",
   "execution_count": 1,
   "metadata": {
    "execution": {
     "iopub.execute_input": "2020-05-24T21:48:22.713Z",
     "iopub.status.busy": "2020-05-24T21:48:22.709Z",
     "iopub.status.idle": "2020-05-24T21:48:23.800Z",
     "shell.execute_reply": "2020-05-24T21:48:23.823Z"
    },
    "jupyter": {
     "outputs_hidden": false,
     "source_hidden": false
    },
    "nteract": {
     "transient": {
      "deleting": false
     }
    },
    "outputExpanded": false
   },
   "outputs": [],
   "source": [
    "import numpy as np\n",
    "import matplotlib.pyplot as plt\n",
    "import pandas as pd\n",
    "\n",
    "import warnings\n",
    "warnings.filterwarnings(\"ignore\")\n",
    "\n",
    "import yfinance as yf\n",
    "yf.pdr_override()"
   ]
  },
  {
   "cell_type": "code",
   "execution_count": 13,
   "metadata": {
    "execution": {
     "iopub.execute_input": "2020-05-24T21:48:23.812Z",
     "iopub.status.busy": "2020-05-24T21:48:23.807Z",
     "iopub.status.idle": "2020-05-24T21:48:25.056Z",
     "shell.execute_reply": "2020-05-24T21:48:25.091Z"
    },
    "jupyter": {
     "outputs_hidden": false,
     "source_hidden": false
    },
    "nteract": {
     "transient": {
      "deleting": false
     }
    },
    "outputExpanded": false
   },
   "outputs": [
    {
     "name": "stdout",
     "output_type": "stream",
     "text": [
      "[*********************100%***********************]  1 of 1 completed\n"
     ]
    },
    {
     "data": {
      "text/html": [
       "<div>\n",
       "<style scoped>\n",
       "    .dataframe tbody tr th:only-of-type {\n",
       "        vertical-align: middle;\n",
       "    }\n",
       "\n",
       "    .dataframe tbody tr th {\n",
       "        vertical-align: top;\n",
       "    }\n",
       "\n",
       "    .dataframe thead th {\n",
       "        text-align: right;\n",
       "    }\n",
       "</style>\n",
       "<table border=\"1\" class=\"dataframe\">\n",
       "  <thead>\n",
       "    <tr style=\"text-align: right;\">\n",
       "      <th></th>\n",
       "      <th>Open</th>\n",
       "      <th>High</th>\n",
       "      <th>Low</th>\n",
       "      <th>Close</th>\n",
       "      <th>Adj Close</th>\n",
       "      <th>Volume</th>\n",
       "    </tr>\n",
       "    <tr>\n",
       "      <th>Date</th>\n",
       "      <th></th>\n",
       "      <th></th>\n",
       "      <th></th>\n",
       "      <th></th>\n",
       "      <th></th>\n",
       "      <th></th>\n",
       "    </tr>\n",
       "  </thead>\n",
       "  <tbody>\n",
       "    <tr>\n",
       "      <th>2014-01-01</th>\n",
       "      <td>1110.000000</td>\n",
       "      <td>1115.000000</td>\n",
       "      <td>1101.300049</td>\n",
       "      <td>1108.449951</td>\n",
       "      <td>980.100525</td>\n",
       "      <td>66461</td>\n",
       "    </tr>\n",
       "    <tr>\n",
       "      <th>2014-01-02</th>\n",
       "      <td>1110.099976</td>\n",
       "      <td>1122.150024</td>\n",
       "      <td>1093.000000</td>\n",
       "      <td>1097.599976</td>\n",
       "      <td>970.506714</td>\n",
       "      <td>310453</td>\n",
       "    </tr>\n",
       "    <tr>\n",
       "      <th>2014-01-03</th>\n",
       "      <td>1086.050049</td>\n",
       "      <td>1094.500000</td>\n",
       "      <td>1081.150024</td>\n",
       "      <td>1088.949951</td>\n",
       "      <td>962.858521</td>\n",
       "      <td>186172</td>\n",
       "    </tr>\n",
       "    <tr>\n",
       "      <th>2014-01-06</th>\n",
       "      <td>1088.000000</td>\n",
       "      <td>1094.599976</td>\n",
       "      <td>1071.099976</td>\n",
       "      <td>1085.000000</td>\n",
       "      <td>959.365845</td>\n",
       "      <td>144416</td>\n",
       "    </tr>\n",
       "    <tr>\n",
       "      <th>2014-01-07</th>\n",
       "      <td>1087.599976</td>\n",
       "      <td>1094.199951</td>\n",
       "      <td>1071.199951</td>\n",
       "      <td>1085.199951</td>\n",
       "      <td>959.542542</td>\n",
       "      <td>297558</td>\n",
       "    </tr>\n",
       "  </tbody>\n",
       "</table>\n",
       "</div>"
      ],
      "text/plain": [
       "                   Open         High          Low        Close   Adj Close  \\\n",
       "Date                                                                         \n",
       "2014-01-01  1110.000000  1115.000000  1101.300049  1108.449951  980.100525   \n",
       "2014-01-02  1110.099976  1122.150024  1093.000000  1097.599976  970.506714   \n",
       "2014-01-03  1086.050049  1094.500000  1081.150024  1088.949951  962.858521   \n",
       "2014-01-06  1088.000000  1094.599976  1071.099976  1085.000000  959.365845   \n",
       "2014-01-07  1087.599976  1094.199951  1071.199951  1085.199951  959.542542   \n",
       "\n",
       "            Volume  \n",
       "Date                \n",
       "2014-01-01   66461  \n",
       "2014-01-02  310453  \n",
       "2014-01-03  186172  \n",
       "2014-01-06  144416  \n",
       "2014-01-07  297558  "
      ]
     },
     "execution_count": 13,
     "metadata": {},
     "output_type": "execute_result"
    }
   ],
   "source": [
    "# input\n",
    "symbol = 'ACC.NS'\n",
    "start = '2014-01-01'\n",
    "end = '2018-08-27'\n",
    "\n",
    "# Read data \n",
    "dataset = yf.download(symbol,start,end)\n",
    "\n",
    "# Only keep close columns \n",
    "dataset.head()"
   ]
  },
  {
   "cell_type": "code",
   "execution_count": 14,
   "metadata": {
    "execution": {
     "iopub.execute_input": "2020-05-24T21:48:25.069Z",
     "iopub.status.busy": "2020-05-24T21:48:25.065Z",
     "iopub.status.idle": "2020-05-24T21:48:25.101Z",
     "shell.execute_reply": "2020-05-24T21:48:25.094Z"
    },
    "jupyter": {
     "outputs_hidden": false,
     "source_hidden": false
    },
    "nteract": {
     "transient": {
      "deleting": false
     }
    },
    "outputExpanded": false
   },
   "outputs": [],
   "source": [
    "dataset['Increase_Decrease'] = np.where(dataset['Volume'].shift(-1) > dataset['Volume'],1,0)\n",
    "dataset['Buy_Sell_on_Open'] = np.where(dataset['Open'].shift(-1) > dataset['Open'],1,0)\n",
    "dataset['Buy_Sell'] = np.where(dataset['Adj Close'].shift(-1) > dataset['Adj Close'],1,0)\n",
    "dataset['Returns'] = dataset['Adj Close'].pct_change()\n",
    "dataset = dataset.dropna()"
   ]
  },
  {
   "cell_type": "code",
   "execution_count": 15,
   "metadata": {
    "execution": {
     "iopub.execute_input": "2020-05-24T21:48:25.119Z",
     "iopub.status.busy": "2020-05-24T21:48:25.111Z",
     "iopub.status.idle": "2020-05-24T21:48:25.141Z",
     "shell.execute_reply": "2020-05-24T21:48:25.696Z"
    },
    "jupyter": {
     "outputs_hidden": false,
     "source_hidden": false
    },
    "nteract": {
     "transient": {
      "deleting": false
     }
    },
    "outputExpanded": false
   },
   "outputs": [
    {
     "data": {
      "text/html": [
       "<div>\n",
       "<style scoped>\n",
       "    .dataframe tbody tr th:only-of-type {\n",
       "        vertical-align: middle;\n",
       "    }\n",
       "\n",
       "    .dataframe tbody tr th {\n",
       "        vertical-align: top;\n",
       "    }\n",
       "\n",
       "    .dataframe thead th {\n",
       "        text-align: right;\n",
       "    }\n",
       "</style>\n",
       "<table border=\"1\" class=\"dataframe\">\n",
       "  <thead>\n",
       "    <tr style=\"text-align: right;\">\n",
       "      <th></th>\n",
       "      <th>Open</th>\n",
       "      <th>High</th>\n",
       "      <th>Low</th>\n",
       "      <th>Close</th>\n",
       "      <th>Adj Close</th>\n",
       "      <th>Volume</th>\n",
       "      <th>Increase_Decrease</th>\n",
       "      <th>Buy_Sell_on_Open</th>\n",
       "      <th>Buy_Sell</th>\n",
       "      <th>Returns</th>\n",
       "    </tr>\n",
       "    <tr>\n",
       "      <th>Date</th>\n",
       "      <th></th>\n",
       "      <th></th>\n",
       "      <th></th>\n",
       "      <th></th>\n",
       "      <th></th>\n",
       "      <th></th>\n",
       "      <th></th>\n",
       "      <th></th>\n",
       "      <th></th>\n",
       "      <th></th>\n",
       "    </tr>\n",
       "  </thead>\n",
       "  <tbody>\n",
       "    <tr>\n",
       "      <th>2018-08-17</th>\n",
       "      <td>1562.199951</td>\n",
       "      <td>1601.650024</td>\n",
       "      <td>1553.500000</td>\n",
       "      <td>1593.949951</td>\n",
       "      <td>1522.762573</td>\n",
       "      <td>664502</td>\n",
       "      <td>1</td>\n",
       "      <td>1</td>\n",
       "      <td>1</td>\n",
       "      <td>0.022385</td>\n",
       "    </tr>\n",
       "    <tr>\n",
       "      <th>2018-08-20</th>\n",
       "      <td>1601.900024</td>\n",
       "      <td>1627.550049</td>\n",
       "      <td>1586.949951</td>\n",
       "      <td>1599.300049</td>\n",
       "      <td>1527.873779</td>\n",
       "      <td>921054</td>\n",
       "      <td>1</td>\n",
       "      <td>1</td>\n",
       "      <td>1</td>\n",
       "      <td>0.003357</td>\n",
       "    </tr>\n",
       "    <tr>\n",
       "      <th>2018-08-21</th>\n",
       "      <td>1604.000000</td>\n",
       "      <td>1650.949951</td>\n",
       "      <td>1604.000000</td>\n",
       "      <td>1639.800049</td>\n",
       "      <td>1566.565063</td>\n",
       "      <td>1068497</td>\n",
       "      <td>0</td>\n",
       "      <td>1</td>\n",
       "      <td>0</td>\n",
       "      <td>0.025324</td>\n",
       "    </tr>\n",
       "    <tr>\n",
       "      <th>2018-08-23</th>\n",
       "      <td>1640.199951</td>\n",
       "      <td>1647.949951</td>\n",
       "      <td>1603.000000</td>\n",
       "      <td>1635.250000</td>\n",
       "      <td>1562.218140</td>\n",
       "      <td>755388</td>\n",
       "      <td>0</td>\n",
       "      <td>0</td>\n",
       "      <td>1</td>\n",
       "      <td>-0.002775</td>\n",
       "    </tr>\n",
       "    <tr>\n",
       "      <th>2018-08-24</th>\n",
       "      <td>1640.000000</td>\n",
       "      <td>1657.000000</td>\n",
       "      <td>1629.199951</td>\n",
       "      <td>1640.849976</td>\n",
       "      <td>1567.568115</td>\n",
       "      <td>597273</td>\n",
       "      <td>0</td>\n",
       "      <td>0</td>\n",
       "      <td>0</td>\n",
       "      <td>0.003425</td>\n",
       "    </tr>\n",
       "  </tbody>\n",
       "</table>\n",
       "</div>"
      ],
      "text/plain": [
       "                   Open         High          Low        Close    Adj Close  \\\n",
       "Date                                                                          \n",
       "2018-08-17  1562.199951  1601.650024  1553.500000  1593.949951  1522.762573   \n",
       "2018-08-20  1601.900024  1627.550049  1586.949951  1599.300049  1527.873779   \n",
       "2018-08-21  1604.000000  1650.949951  1604.000000  1639.800049  1566.565063   \n",
       "2018-08-23  1640.199951  1647.949951  1603.000000  1635.250000  1562.218140   \n",
       "2018-08-24  1640.000000  1657.000000  1629.199951  1640.849976  1567.568115   \n",
       "\n",
       "             Volume  Increase_Decrease  Buy_Sell_on_Open  Buy_Sell   Returns  \n",
       "Date                                                                          \n",
       "2018-08-17   664502                  1                 1         1  0.022385  \n",
       "2018-08-20   921054                  1                 1         1  0.003357  \n",
       "2018-08-21  1068497                  0                 1         0  0.025324  \n",
       "2018-08-23   755388                  0                 0         1 -0.002775  \n",
       "2018-08-24   597273                  0                 0         0  0.003425  "
      ]
     },
     "execution_count": 15,
     "metadata": {},
     "output_type": "execute_result"
    }
   ],
   "source": [
    "dataset.tail()"
   ]
  },
  {
   "cell_type": "code",
   "execution_count": 16,
   "metadata": {
    "execution": {
     "iopub.execute_input": "2020-05-24T21:48:25.162Z",
     "iopub.status.busy": "2020-05-24T21:48:25.154Z",
     "iopub.status.idle": "2020-05-24T21:48:25.177Z",
     "shell.execute_reply": "2020-05-24T21:48:25.700Z"
    },
    "jupyter": {
     "outputs_hidden": false,
     "source_hidden": false
    },
    "nteract": {
     "transient": {
      "deleting": false
     }
    },
    "outputExpanded": false
   },
   "outputs": [
    {
     "data": {
      "text/plain": [
       "array([[  1110.09997559,   1122.15002441,   1093.        ,\n",
       "           970.50671387, 310453.        ],\n",
       "       [  1086.05004883,   1094.5       ,   1081.15002441,\n",
       "           962.85852051, 186172.        ],\n",
       "       [  1088.        ,   1094.59997559,   1071.09997559,\n",
       "           959.36584473, 144416.        ],\n",
       "       [  1087.59997559,   1094.19995117,   1071.19995117,\n",
       "           959.5425415 , 297558.        ],\n",
       "       [  1080.09997559,   1098.        ,   1077.09997559,\n",
       "           957.90686035, 309014.        ]])"
      ]
     },
     "execution_count": 16,
     "metadata": {},
     "output_type": "execute_result"
    }
   ],
   "source": [
    "# Define X\n",
    "X = np.asarray(dataset[['Open', 'High', 'Low', 'Adj Close', 'Volume']])\n",
    "X[0:5]"
   ]
  },
  {
   "cell_type": "code",
   "execution_count": 17,
   "metadata": {
    "execution": {
     "iopub.execute_input": "2020-05-24T21:48:25.192Z",
     "iopub.status.busy": "2020-05-24T21:48:25.187Z",
     "iopub.status.idle": "2020-05-24T21:48:25.204Z",
     "shell.execute_reply": "2020-05-24T21:48:25.702Z"
    },
    "jupyter": {
     "outputs_hidden": false,
     "source_hidden": false
    },
    "nteract": {
     "transient": {
      "deleting": false
     }
    },
    "outputExpanded": false
   },
   "outputs": [
    {
     "data": {
      "text/plain": [
       "array([0, 0, 1, 0, 0])"
      ]
     },
     "execution_count": 17,
     "metadata": {},
     "output_type": "execute_result"
    }
   ],
   "source": [
    "# Define y\n",
    "y = np.asarray(dataset['Buy_Sell'])\n",
    "y[0:5]"
   ]
  },
  {
   "cell_type": "code",
   "execution_count": 18,
   "metadata": {
    "execution": {
     "iopub.execute_input": "2020-05-24T21:48:25.215Z",
     "iopub.status.busy": "2020-05-24T21:48:25.210Z",
     "iopub.status.idle": "2020-05-24T21:48:25.676Z",
     "shell.execute_reply": "2020-05-24T21:48:25.704Z"
    },
    "jupyter": {
     "outputs_hidden": false,
     "source_hidden": false
    },
    "nteract": {
     "transient": {
      "deleting": false
     }
    },
    "outputExpanded": false
   },
   "outputs": [
    {
     "data": {
      "text/plain": [
       "array([[-2.12461871, -2.14078382, -2.14303927, -2.22186131, -0.12040042],\n",
       "       [-2.26255539, -2.29859208, -2.21169894, -2.26603152, -0.49461284],\n",
       "       [-2.25137158, -2.29802148, -2.2699297 , -2.28620258, -0.62034093],\n",
       "       [-2.25366589, -2.30030456, -2.26935044, -2.28518212, -0.15922751],\n",
       "       [-2.29668162, -2.27861637, -2.23516524, -2.29462858, -0.12473328]])"
      ]
     },
     "execution_count": 18,
     "metadata": {},
     "output_type": "execute_result"
    }
   ],
   "source": [
    "from sklearn import preprocessing\n",
    "X = preprocessing.StandardScaler().fit(X).transform(X)\n",
    "X[0:5]"
   ]
  },
  {
   "cell_type": "code",
   "execution_count": 19,
   "metadata": {
    "execution": {
     "iopub.execute_input": "2020-05-24T21:48:25.686Z",
     "iopub.status.busy": "2020-05-24T21:48:25.683Z",
     "iopub.status.idle": "2020-05-24T21:48:25.715Z",
     "shell.execute_reply": "2020-05-24T21:48:25.706Z"
    },
    "jupyter": {
     "outputs_hidden": false,
     "source_hidden": false
    },
    "nteract": {
     "transient": {
      "deleting": false
     }
    },
    "outputExpanded": false
   },
   "outputs": [
    {
     "name": "stdout",
     "output_type": "stream",
     "text": [
      "Train set: (858, 5) (858,)\n",
      "Test set: (287, 5) (287,)\n"
     ]
    }
   ],
   "source": [
    "# Splitting the dataset into the Training set and Test set\n",
    "from sklearn.model_selection import train_test_split\n",
    "X_train, X_test, y_train, y_test = train_test_split(X, y, test_size = 0.25, random_state = 0)\n",
    "print ('Train set:', X_train.shape,  y_train.shape)\n",
    "print ('Test set:', X_test.shape,  y_test.shape)"
   ]
  },
  {
   "cell_type": "code",
   "execution_count": 20,
   "metadata": {
    "execution": {
     "iopub.execute_input": "2020-05-24T21:48:25.725Z",
     "iopub.status.busy": "2020-05-24T21:48:25.721Z",
     "iopub.status.idle": "2020-05-24T21:48:25.766Z",
     "shell.execute_reply": "2020-05-24T21:48:25.828Z"
    },
    "jupyter": {
     "outputs_hidden": false,
     "source_hidden": false
    },
    "nteract": {
     "transient": {
      "deleting": false
     }
    },
    "outputExpanded": false
   },
   "outputs": [],
   "source": [
    "from sklearn.linear_model import LogisticRegression"
   ]
  },
  {
   "cell_type": "code",
   "execution_count": 21,
   "metadata": {
    "execution": {
     "iopub.execute_input": "2020-05-24T21:48:25.776Z",
     "iopub.status.busy": "2020-05-24T21:48:25.772Z",
     "iopub.status.idle": "2020-05-24T21:48:25.786Z",
     "shell.execute_reply": "2020-05-24T21:48:25.831Z"
    },
    "jupyter": {
     "outputs_hidden": false,
     "source_hidden": false
    },
    "nteract": {
     "transient": {
      "deleting": false
     }
    },
    "outputExpanded": false
   },
   "outputs": [
    {
     "data": {
      "text/plain": [
       "LogisticRegression(C=0.01, class_weight=None, dual=False, fit_intercept=True,\n",
       "          intercept_scaling=1, max_iter=100, multi_class='ovr', n_jobs=1,\n",
       "          penalty='l2', random_state=None, solver='liblinear', tol=0.0001,\n",
       "          verbose=0, warm_start=False)"
      ]
     },
     "execution_count": 21,
     "metadata": {},
     "output_type": "execute_result"
    }
   ],
   "source": [
    "LR = LogisticRegression(C=0.01, solver='liblinear').fit(X_train,y_train)\n",
    "LR"
   ]
  },
  {
   "cell_type": "code",
   "execution_count": 22,
   "metadata": {
    "execution": {
     "iopub.execute_input": "2020-05-24T21:48:25.795Z",
     "iopub.status.busy": "2020-05-24T21:48:25.792Z",
     "iopub.status.idle": "2020-05-24T21:48:25.803Z",
     "shell.execute_reply": "2020-05-24T21:48:25.834Z"
    },
    "jupyter": {
     "outputs_hidden": false,
     "source_hidden": false
    },
    "nteract": {
     "transient": {
      "deleting": false
     }
    },
    "outputExpanded": false
   },
   "outputs": [
    {
     "data": {
      "text/plain": [
       "array([1, 1])"
      ]
     },
     "execution_count": 22,
     "metadata": {},
     "output_type": "execute_result"
    }
   ],
   "source": [
    "LR.predict(X[:2, :])"
   ]
  },
  {
   "cell_type": "code",
   "execution_count": 23,
   "metadata": {
    "execution": {
     "iopub.execute_input": "2020-05-24T21:48:25.810Z",
     "iopub.status.busy": "2020-05-24T21:48:25.808Z",
     "iopub.status.idle": "2020-05-24T21:48:25.817Z",
     "shell.execute_reply": "2020-05-24T21:48:25.837Z"
    },
    "jupyter": {
     "outputs_hidden": false,
     "source_hidden": false
    },
    "nteract": {
     "transient": {
      "deleting": false
     }
    },
    "outputExpanded": false
   },
   "outputs": [
    {
     "data": {
      "text/plain": [
       "0.5384615384615384"
      ]
     },
     "execution_count": 23,
     "metadata": {},
     "output_type": "execute_result"
    }
   ],
   "source": [
    "LR.score(X_train, y_train)"
   ]
  },
  {
   "cell_type": "code",
   "execution_count": null,
   "metadata": {},
   "outputs": [],
   "source": []
  },
  {
   "cell_type": "code",
   "execution_count": null,
   "metadata": {},
   "outputs": [],
   "source": []
  }
 ],
 "metadata": {
  "kernel_info": {
   "name": "python3"
  },
  "kernelspec": {
   "display_name": "Python 3",
   "language": "python",
   "name": "python3"
  },
  "language_info": {
   "codemirror_mode": {
    "name": "ipython",
    "version": 3
   },
   "file_extension": ".py",
   "mimetype": "text/x-python",
   "name": "python",
   "nbconvert_exporter": "python",
   "pygments_lexer": "ipython3",
   "version": "3.6.5"
  },
  "nteract": {
   "version": "0.23.1"
  }
 },
 "nbformat": 4,
 "nbformat_minor": 1
}
